{
 "cells": [
  {
   "cell_type": "markdown",
   "id": "2a72d2fb-d07e-489d-a12d-cf586f75e9c7",
   "metadata": {},
   "source": [
    "while condition true:\n",
    "    body\n",
    "    "
   ]
  },
  {
   "cell_type": "code",
   "execution_count": 5,
   "id": "d6a50f7f-f1e9-46a6-9204-1935a6a52ca0",
   "metadata": {},
   "outputs": [
    {
     "name": "stdout",
     "output_type": "stream",
     "text": [
      "enter a city name :  queta\n"
     ]
    },
    {
     "name": "stdout",
     "output_type": "stream",
     "text": [
      "queta is not a clean city\n"
     ]
    },
    {
     "name": "stdout",
     "output_type": "stream",
     "text": [
      "enter a city name :  karachi\n"
     ]
    },
    {
     "name": "stdout",
     "output_type": "stream",
     "text": [
      "karachi is a clean city\n"
     ]
    }
   ],
   "source": [
    "cities=[\"karachi\",\"islamabad\",\"lahore\"]\n",
    "temp =True\n",
    "while temp:\n",
    "    city=input(\"enter a city name : \")\n",
    "    if city in cities:\n",
    "        print(f'{city} is a clean city')\n",
    "        temp =False\n",
    "    else:\n",
    "        print(f'{city} is not a clean city')\n",
    "        "
   ]
  },
  {
   "cell_type": "code",
   "execution_count": null,
   "id": "b758d6d2-cc06-476d-9527-2c940a6262f9",
   "metadata": {},
   "outputs": [
    {
     "name": "stdout",
     "output_type": "stream",
     "text": [
      "number is 5\n",
      "number is 4\n",
      "4 is this number\n"
     ]
    }
   ],
   "source": [
    "temp =True\n",
    "while temp:\n",
    "    \n",
    "    num=int(input(\"enter a number\"))\n",
    "    if num == 0:\n",
    "        temp =False\n",
    "    else:\n",
    "        sum =0\n",
    "        sum=sum+num\n",
    "        print(f'{sum} is this number')\n"
   ]
  },
  {
   "cell_type": "code",
   "execution_count": null,
   "id": "07df9959",
   "metadata": {},
   "outputs": [],
   "source": []
  }
 ],
 "metadata": {
  "kernelspec": {
   "display_name": "Python 3",
   "language": "python",
   "name": "python3"
  },
  "language_info": {
   "codemirror_mode": {
    "name": "ipython",
    "version": 3
   },
   "file_extension": ".py",
   "mimetype": "text/x-python",
   "name": "python",
   "nbconvert_exporter": "python",
   "pygments_lexer": "ipython3",
   "version": "3.12.3"
  }
 },
 "nbformat": 4,
 "nbformat_minor": 5
}
