{
 "cells": [
  {
   "cell_type": "code",
   "execution_count": 51,
   "id": "2be5ecb1-ce1e-4848-a088-e2e6e0daa34c",
   "metadata": {},
   "outputs": [
    {
     "name": "stdout",
     "output_type": "stream",
     "text": [
      "\n",
      "content to show in text file(3) \n",
      "content to show in text file(3) \n",
      "numbers of lines are 3\n"
     ]
    }
   ],
   "source": [
    "with open('../file_handling/file_handling.txt','a') as file:\n",
    "    file.write(\"\\ncontent to show in text file(3) \")\n",
    "with open('../file_handling/file_handling.txt','r') as file:\n",
    "    c=file.read()\n",
    "    print(c)\n",
    "with open('../file_handling/file_handling.txt','r') as file:\n",
    "    # lines=file.readlines()\n",
    "    lines=len(file.readlines())\n",
    "    print(f'numbers of lines are {lines}')"
   ]
  },
  {
   "cell_type": "code",
   "execution_count": 50,
   "id": "5ba128a7",
   "metadata": {},
   "outputs": [],
   "source": [
    "with open('../file_handling/file_handling.txt','r') as file1, open('../file_handling/file_handling2.txt','a') as file2 :\n",
    "    for lines in file1:\n",
    "        file2.write(lines)"
   ]
  },
  {
   "cell_type": "code",
   "execution_count": 56,
   "id": "defde652",
   "metadata": {},
   "outputs": [
    {
     "ename": "SyntaxError",
     "evalue": "incomplete input (556067371.py, line 3)",
     "output_type": "error",
     "traceback": [
      "\u001b[1;36m  Cell \u001b[1;32mIn[56], line 3\u001b[1;36m\u001b[0m\n\u001b[1;33m    # file1.read(lines.replace('(','{'))\u001b[0m\n\u001b[1;37m                                        ^\u001b[0m\n\u001b[1;31mSyntaxError\u001b[0m\u001b[1;31m:\u001b[0m incomplete input\n"
     ]
    }
   ],
   "source": [
    "with open('../file_handling/file_handling.txt','r+') as file1:\n",
    "    # for lines in file1:\n",
    "        # file1.read(lines.replace('(','{'))"
   ]
  },
  {
   "cell_type": "markdown",
   "id": "04c1b7e8",
   "metadata": {},
   "source": [
    "# modules\n",
    "is a chunck of code that is not avialable in our  file"
   ]
  },
  {
   "cell_type": "markdown",
   "id": "48402e26",
   "metadata": {},
   "source": [
    "##CSV files"
   ]
  },
  {
   "cell_type": "markdown",
   "id": "bfedab3d",
   "metadata": {},
   "source": []
  },
  {
   "cell_type": "code",
   "execution_count": 75,
   "id": "7fa9c60a",
   "metadata": {},
   "outputs": [
    {
     "name": "stdout",
     "output_type": "stream",
     "text": [
      "['ID', 'Name', 'Age', 'City']\n"
     ]
    }
   ],
   "source": [
    "import csv\n",
    "with open (\"./small_data.csv\") as file:\n",
    "    content_obj = csv.reader(file)\n",
    "    content=[]\n",
    "    for line in content_obj:\n",
    "        content.append(line)\n",
    "    print(content[0])\n"
   ]
  },
  {
   "cell_type": "code",
   "execution_count": 82,
   "id": "92687dba",
   "metadata": {},
   "outputs": [
    {
     "ename": "PermissionError",
     "evalue": "[Errno 13] Permission denied: './small_data.csv'",
     "output_type": "error",
     "traceback": [
      "\u001b[1;31m---------------------------------------------------------------------------\u001b[0m",
      "\u001b[1;31mPermissionError\u001b[0m                           Traceback (most recent call last)",
      "Cell \u001b[1;32mIn[82], line 4\u001b[0m\n\u001b[0;32m      1\u001b[0m \u001b[38;5;28;01mimport\u001b[39;00m \u001b[38;5;21;01mcsv\u001b[39;00m\n\u001b[0;32m      3\u001b[0m \u001b[38;5;66;03m# Open file and write data\u001b[39;00m\n\u001b[1;32m----> 4\u001b[0m \u001b[38;5;28;01mwith\u001b[39;00m \u001b[38;5;28;43mopen\u001b[39;49m\u001b[43m(\u001b[49m\u001b[38;5;124;43m\"\u001b[39;49m\u001b[38;5;124;43m./small_data.csv\u001b[39;49m\u001b[38;5;124;43m\"\u001b[39;49m\u001b[43m,\u001b[49m\u001b[43m \u001b[49m\u001b[38;5;124;43m'\u001b[39;49m\u001b[38;5;124;43mw\u001b[39;49m\u001b[38;5;124;43m'\u001b[39;49m\u001b[43m,\u001b[49m\u001b[43m \u001b[49m\u001b[43mnewline\u001b[49m\u001b[38;5;241;43m=\u001b[39;49m\u001b[38;5;124;43m'\u001b[39;49m\u001b[38;5;124;43m'\u001b[39;49m\u001b[43m)\u001b[49m \u001b[38;5;28;01mas\u001b[39;00m file:\n\u001b[0;32m      5\u001b[0m     marks \u001b[38;5;241m=\u001b[39m [(\u001b[38;5;241m6\u001b[39m, \u001b[38;5;124m'\u001b[39m\u001b[38;5;124mrana\u001b[39m\u001b[38;5;124m'\u001b[39m, \u001b[38;5;241m25\u001b[39m, \u001b[38;5;124m'\u001b[39m\u001b[38;5;124mKarachi\u001b[39m\u001b[38;5;124m'\u001b[39m)]  \u001b[38;5;66;03m# Data to write\u001b[39;00m\n\u001b[0;32m      6\u001b[0m     content_obj \u001b[38;5;241m=\u001b[39m csv\u001b[38;5;241m.\u001b[39mwriter(file)\n",
      "File \u001b[1;32m~\\AppData\\Roaming\\Python\\Python312\\site-packages\\IPython\\core\\interactiveshell.py:324\u001b[0m, in \u001b[0;36m_modified_open\u001b[1;34m(file, *args, **kwargs)\u001b[0m\n\u001b[0;32m    317\u001b[0m \u001b[38;5;28;01mif\u001b[39;00m file \u001b[38;5;129;01min\u001b[39;00m {\u001b[38;5;241m0\u001b[39m, \u001b[38;5;241m1\u001b[39m, \u001b[38;5;241m2\u001b[39m}:\n\u001b[0;32m    318\u001b[0m     \u001b[38;5;28;01mraise\u001b[39;00m \u001b[38;5;167;01mValueError\u001b[39;00m(\n\u001b[0;32m    319\u001b[0m         \u001b[38;5;124mf\u001b[39m\u001b[38;5;124m\"\u001b[39m\u001b[38;5;124mIPython won\u001b[39m\u001b[38;5;124m'\u001b[39m\u001b[38;5;124mt let you open fd=\u001b[39m\u001b[38;5;132;01m{\u001b[39;00mfile\u001b[38;5;132;01m}\u001b[39;00m\u001b[38;5;124m by default \u001b[39m\u001b[38;5;124m\"\u001b[39m\n\u001b[0;32m    320\u001b[0m         \u001b[38;5;124m\"\u001b[39m\u001b[38;5;124mas it is likely to crash IPython. If you know what you are doing, \u001b[39m\u001b[38;5;124m\"\u001b[39m\n\u001b[0;32m    321\u001b[0m         \u001b[38;5;124m\"\u001b[39m\u001b[38;5;124myou can use builtins\u001b[39m\u001b[38;5;124m'\u001b[39m\u001b[38;5;124m open.\u001b[39m\u001b[38;5;124m\"\u001b[39m\n\u001b[0;32m    322\u001b[0m     )\n\u001b[1;32m--> 324\u001b[0m \u001b[38;5;28;01mreturn\u001b[39;00m \u001b[43mio_open\u001b[49m\u001b[43m(\u001b[49m\u001b[43mfile\u001b[49m\u001b[43m,\u001b[49m\u001b[43m \u001b[49m\u001b[38;5;241;43m*\u001b[39;49m\u001b[43margs\u001b[49m\u001b[43m,\u001b[49m\u001b[43m \u001b[49m\u001b[38;5;241;43m*\u001b[39;49m\u001b[38;5;241;43m*\u001b[39;49m\u001b[43mkwargs\u001b[49m\u001b[43m)\u001b[49m\n",
      "\u001b[1;31mPermissionError\u001b[0m: [Errno 13] Permission denied: './small_data.csv'"
     ]
    }
   ],
   "source": [
    "import csv\n",
    "\n",
    "# Open file and write data\n",
    "with open(\"./small_data.csv\", 'w', newline='') as file:\n",
    "    marks = [(6, 'rana', 25, 'Karachi')]  # Data to write\n",
    "    content_obj = csv.writer(file)\n",
    "    \n",
    "    # Writing header (optional)\n",
    "    content_obj.writerow([\"ID\", \"Name\", \"Age\", \"City\"])\n",
    "    \n",
    "    # Writing rows\n",
    "    for row in marks:\n",
    "        content_obj.writerow(row)\n",
    "\n",
    "print(\"Data has been written successfully.\")\n"
   ]
  },
  {
   "cell_type": "code",
   "execution_count": null,
   "id": "4298ee8f",
   "metadata": {},
   "outputs": [],
   "source": []
  }
 ],
 "metadata": {
  "kernelspec": {
   "display_name": "Python 3",
   "language": "python",
   "name": "python3"
  },
  "language_info": {
   "codemirror_mode": {
    "name": "ipython",
    "version": 3
   },
   "file_extension": ".py",
   "mimetype": "text/x-python",
   "name": "python",
   "nbconvert_exporter": "python",
   "pygments_lexer": "ipython3",
   "version": "3.12.3"
  }
 },
 "nbformat": 4,
 "nbformat_minor": 5
}
