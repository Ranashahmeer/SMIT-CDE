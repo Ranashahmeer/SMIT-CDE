{
 "cells": [
  {
   "cell_type": "code",
   "execution_count": 3,
   "id": "90b99cf4-4d95-4458-a5d7-6ae2de899fc6",
   "metadata": {},
   "outputs": [],
   "source": [
    "#condtions"
   ]
  },
  {
   "cell_type": "code",
   "execution_count": 10,
   "id": "a3774ed1-ab37-4d35-9317-60b4162c522d",
   "metadata": {},
   "outputs": [
    {
     "name": "stdin",
     "output_type": "stream",
     "text": [
      "enter salray : 100000\n",
      "enter experience in years : 4\n"
     ]
    },
    {
     "name": "stdout",
     "output_type": "stream",
     "text": [
      "experience less than 5 years so no bonus\n"
     ]
    }
   ],
   "source": [
    "# to read documentation of function (shift + tab)\n",
    "#by default it take function of str data type\n",
    "salary=int(input(\"enter salray :\"))\n",
    "experience=int(input(\"enter experience in years :\"))\n",
    "if (experience >5):\n",
    "    salary+=(salary*5)/100 \n",
    "    print (salary)\n",
    "else:\n",
    "    print(\"experience less than 5 years so no bonus\")"
   ]
  },
  {
   "cell_type": "code",
   "execution_count": 11,
   "id": "1bb7fd93-068f-4e25-b1fd-30a6b1030921",
   "metadata": {},
   "outputs": [],
   "source": [
    "#Lists"
   ]
  },
  {
   "cell_type": "code",
   "execution_count": 12,
   "id": "df87833e-ce79-41d0-97a1-637561294fc7",
   "metadata": {},
   "outputs": [
    {
     "data": {
      "text/plain": [
       "['karachi', 'lahore', 'islamabad', 'multan', 'sukkur']"
      ]
     },
     "execution_count": 12,
     "metadata": {},
     "output_type": "execute_result"
    }
   ],
   "source": [
    "cities =[\"karachi\",\"lahore\",\"islamabad\",\"multan\",\"sukkur\"]\n",
    "cities"
   ]
  },
  {
   "cell_type": "code",
   "execution_count": 15,
   "id": "9666acfc-878b-4af5-af39-877e390c3a4c",
   "metadata": {},
   "outputs": [
    {
     "data": {
      "text/plain": [
       "'lahore'"
      ]
     },
     "execution_count": 15,
     "metadata": {},
     "output_type": "execute_result"
    }
   ],
   "source": [
    "cities[1]"
   ]
  },
  {
   "cell_type": "code",
   "execution_count": null,
   "id": "95d6add2-185c-4cee-97d9-2e980834c616",
   "metadata": {},
   "outputs": [],
   "source": []
  }
 ],
 "metadata": {
  "kernelspec": {
   "display_name": "Python 3 (ipykernel)",
   "language": "python",
   "name": "python3"
  },
  "language_info": {
   "codemirror_mode": {
    "name": "ipython",
    "version": 3
   },
   "file_extension": ".py",
   "mimetype": "text/x-python",
   "name": "python",
   "nbconvert_exporter": "python",
   "pygments_lexer": "ipython3",
   "version": "3.12.7"
  }
 },
 "nbformat": 4,
 "nbformat_minor": 5
}
