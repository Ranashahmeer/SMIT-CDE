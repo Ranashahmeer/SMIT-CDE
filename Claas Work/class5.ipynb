{
 "cells": [
  {
   "cell_type": "markdown",
   "id": "0469fb93-a01e-434c-a925-9089f1366404",
   "metadata": {},
   "source": [
    "#Dictionary"
   ]
  },
  {
   "cell_type": "code",
   "execution_count": 1,
   "id": "4affb6e6-e276-480f-8505-dc2facc71203",
   "metadata": {},
   "outputs": [
    {
     "data": {
      "text/plain": [
       "{'brand': 'Ford', 'model': 'Mustang', 'year': 1964}"
      ]
     },
     "execution_count": 1,
     "metadata": {},
     "output_type": "execute_result"
    }
   ],
   "source": [
    "thisdict = {\n",
    "  \"brand\": \"Ford\",\n",
    "  \"model\": \"Mustang\",\n",
    "  \"year\": 1964\n",
    "}\n",
    "thisdict"
   ]
  },
  {
   "cell_type": "code",
   "execution_count": 2,
   "id": "8c5cc5dd-e127-4d1f-a871-fa146d89cb0d",
   "metadata": {},
   "outputs": [],
   "source": [
    "thisdict[\"color\"]=\"blue\""
   ]
  },
  {
   "cell_type": "code",
   "execution_count": 3,
   "id": "e25d25a6-3b45-43bb-8a1d-9b3ebd8e3d6f",
   "metadata": {},
   "outputs": [
    {
     "data": {
      "text/plain": [
       "{'brand': 'Ford', 'model': 'Mustang', 'year': 1964, 'color': 'blue'}"
      ]
     },
     "execution_count": 3,
     "metadata": {},
     "output_type": "execute_result"
    }
   ],
   "source": [
    "thisdict"
   ]
  },
  {
   "cell_type": "code",
   "execution_count": 17,
   "id": "28e35ffd-9e16-4fdc-8469-1af6f6098c66",
   "metadata": {},
   "outputs": [],
   "source": [
    "thisdict[\"isUsed\"]=True\n"
   ]
  },
  {
   "cell_type": "code",
   "execution_count": 20,
   "id": "a1c14b4b-86a8-4115-a14d-e147fc6ebca9",
   "metadata": {},
   "outputs": [
    {
     "data": {
      "text/plain": [
       "True"
      ]
     },
     "execution_count": 20,
     "metadata": {},
     "output_type": "execute_result"
    }
   ],
   "source": [
    "thisdict[\"isUsed\"]\n"
   ]
  },
  {
   "cell_type": "code",
   "execution_count": 23,
   "id": "bc03e849-e3e2-4666-a14a-2f90bc5977a7",
   "metadata": {},
   "outputs": [
    {
     "data": {
      "text/plain": [
       "int"
      ]
     },
     "execution_count": 23,
     "metadata": {},
     "output_type": "execute_result"
    }
   ],
   "source": [
    "type(thisdict[\"year\"])"
   ]
  },
  {
   "cell_type": "code",
   "execution_count": 35,
   "id": "b3796504-b402-412d-9460-ca170041ba1f",
   "metadata": {},
   "outputs": [
    {
     "name": "stdout",
     "output_type": "stream",
     "text": [
      "Ford\n",
      "Mustang\n",
      "1964\n",
      "blue\n",
      "True\n"
     ]
    }
   ],
   "source": [
    "for keys in thisdict.keys():\n",
    "        \n",
    "    print(thisdict.get(keys))"
   ]
  },
  {
   "cell_type": "code",
   "execution_count": null,
   "id": "e7e3322b-6991-4f43-a867-aa6a9a6bcdee",
   "metadata": {},
   "outputs": [],
   "source": []
  }
 ],
 "metadata": {
  "kernelspec": {
   "display_name": "Python 3 (ipykernel)",
   "language": "python",
   "name": "python3"
  },
  "language_info": {
   "codemirror_mode": {
    "name": "ipython",
    "version": 3
   },
   "file_extension": ".py",
   "mimetype": "text/x-python",
   "name": "python",
   "nbconvert_exporter": "python",
   "pygments_lexer": "ipython3",
   "version": "3.12.7"
  }
 },
 "nbformat": 4,
 "nbformat_minor": 5
}
