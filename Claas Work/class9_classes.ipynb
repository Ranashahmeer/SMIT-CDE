{
 "cells": [
  {
   "cell_type": "markdown",
   "id": "1a9c7e0d",
   "metadata": {},
   "source": [
    "###Classes"
   ]
  },
  {
   "cell_type": "markdown",
   "id": "273c5d5a",
   "metadata": {},
   "source": [
    "-Every object belongs to any class\n",
    "-Every class havesome methods\n",
    "-Attributes ==> Characterstics\n",
    "-Methods ==> Behaviour"
   ]
  },
  {
   "cell_type": "code",
   "execution_count": 10,
   "id": "5991e78e",
   "metadata": {},
   "outputs": [],
   "source": [
    "class vehicles():\n",
    "    def __init__(self ,color ,model,price,brand):\n",
    "        self.color = color \n",
    "        self.model = model\n",
    "        self.price = price\n",
    "        self.brand = brand\n",
    "\n",
    "    def details(self):\n",
    "        print(f\"brand is : {self.brand}\\\n",
    "model is : {self.model}\\\n",
    "color is : {self.color}\\\n",
    "price is : {self.price}\")\n",
    "        \n",
    "    def moving(self):\n",
    "        print(f\"{self.brand} is a type of vehicle \")   \n",
    "toyota = vehicles(\"white\",\"Grande\",70,\"toyota\")\n",
    " "
   ]
  },
  {
   "cell_type": "code",
   "execution_count": 11,
   "id": "bcfe5f21",
   "metadata": {},
   "outputs": [
    {
     "name": "stdout",
     "output_type": "stream",
     "text": [
      "brand is : toyotamodel is : Grandecolor is : whiteprice is : 70\n"
     ]
    }
   ],
   "source": [
    "toyota.brand\n",
    "toyota.color\n",
    "toyota.details()"
   ]
  },
  {
   "cell_type": "code",
   "execution_count": 32,
   "id": "5de87503",
   "metadata": {},
   "outputs": [],
   "source": [
    "class person():\n",
    "    \n",
    "    def __init__(self,haircolor,eyecolor,skincolor):\n",
    "        self.haircolor =haircolor\n",
    "        self.eyecolor =eyecolor\n",
    "        self.skincolor =skincolor\n",
    "    \n",
    "    def get_name(self,name):\n",
    "        person.name=name\n",
    "        print(person.name)\n",
    "    def details(self):\n",
    "        print(f\"Hair color : {self.haircolor}\")\n",
    "        print(f\"Eye color : {self.eyecolor}\")\n",
    "        print(f\"Hair color : {self.haircolor}\")\n",
    "    def eat(self):\n",
    "        print(\"he eats apple\")\n",
    "    def sleep(self):\n",
    "        print(\"he sleeps at 10\")\n",
    "  \n",
    "    "
   ]
  },
  {
   "cell_type": "code",
   "execution_count": 33,
   "id": "d219d33c",
   "metadata": {},
   "outputs": [],
   "source": [
    "hair = input(\"Enter hair color: \")\n",
    "eye = input(\"Enter eye color: \")\n",
    "skin = input(\"Enter skin color: \") \n",
    "rana=person(hair,eye,skin)"
   ]
  },
  {
   "cell_type": "code",
   "execution_count": 34,
   "id": "00e4175a",
   "metadata": {},
   "outputs": [
    {
     "name": "stdout",
     "output_type": "stream",
     "text": [
      "Hair color : black\n",
      "Eye color : black\n",
      "Hair color : black\n",
      "he eats apple\n",
      "None\n",
      "he sleeps at 10\n",
      "None\n",
      "ali\n",
      "None\n"
     ]
    }
   ],
   "source": [
    "rana.details()\n",
    "print(rana.eat())\n",
    "print(rana.sleep())\n",
    "print(rana.get_name(\"ali\"))"
   ]
  },
  {
   "cell_type": "markdown",
   "id": "76517dfb",
   "metadata": {},
   "source": [
    "INHERITANCE:"
   ]
  },
  {
   "cell_type": "code",
   "execution_count": 62,
   "id": "2f43efa5",
   "metadata": {},
   "outputs": [],
   "source": [
    "\n",
    "class parant():\n",
    "    def __init__(self,name,age):\n",
    "        self.name=name\n",
    "        self.age= age\n",
    "    def property(self):\n",
    "        print(\"name:\",self.name)\n",
    "        print(\"age:\",self.age)\n",
    "class child(parant):\n",
    "    def __init__(self,name,age,height):\n",
    "        super().__init__(name,age)\n",
    "        self.height=height\n",
    "    def details(self):\n",
    "        self.property()\n",
    "        print(self.height)\n",
    "\n",
    "rana=child(\"shahmeer\",21,187)\n"
   ]
  },
  {
   "cell_type": "code",
   "execution_count": 64,
   "id": "0d530714",
   "metadata": {},
   "outputs": [
    {
     "name": "stdout",
     "output_type": "stream",
     "text": [
      "name: shahmeer\n",
      "age: 21\n",
      "187\n"
     ]
    }
   ],
   "source": [
    "rana.details()\n",
    "\n"
   ]
  },
  {
   "cell_type": "markdown",
   "id": "3c308d3f",
   "metadata": {},
   "source": [
    "multi class inheritance"
   ]
  },
  {
   "cell_type": "code",
   "execution_count": 7,
   "id": "4e0c8ca8",
   "metadata": {},
   "outputs": [],
   "source": [
    "class father():\n",
    "    def __init__(self,haricolor):\n",
    "        self.haircolor= haricolor\n",
    "    def drive(self):\n",
    "        print(\"can drive\")\n",
    "class mother():\n",
    "    def __init__(self,eyecolor):\n",
    "        self.eyecolor = eyecolor\n",
    "    def cooking (self):\n",
    "        print(\"can cook\")\n",
    "\n",
    "class child(father,mother):\n",
    "    def __init__(self, name,haircolor,eyecolor):\n",
    "        father.__init__(self,haircolor)\n",
    "        mother.__init__(self,eyecolor)\n",
    "        self.name = name\n",
    "\n",
    "    def play(self):\n",
    "        print(\"can play football\")\n",
    "\n"
   ]
  },
  {
   "cell_type": "code",
   "execution_count": 8,
   "id": "8fa36c88",
   "metadata": {},
   "outputs": [],
   "source": [
    "child_obj=child (\"rana\",\"brown hair\",\"blue color\")"
   ]
  },
  {
   "cell_type": "code",
   "execution_count": 10,
   "id": "69e9b85a",
   "metadata": {},
   "outputs": [
    {
     "name": "stdout",
     "output_type": "stream",
     "text": [
      "can play football\n",
      "can cook\n",
      "can drive\n"
     ]
    }
   ],
   "source": [
    "child_obj.play()\n",
    "child_obj.cooking()\n",
    "child_obj.drive()"
   ]
  },
  {
   "cell_type": "code",
   "execution_count": 11,
   "id": "1fde20f5",
   "metadata": {},
   "outputs": [
    {
     "data": {
      "text/plain": [
       "'red eye color'"
      ]
     },
     "execution_count": 11,
     "metadata": {},
     "output_type": "execute_result"
    }
   ],
   "source": [
    "mother_obj = mother(\"red eye color\")\n",
    "mother_obj.eyecolor"
   ]
  },
  {
   "cell_type": "code",
   "execution_count": 35,
   "id": "261ad9c3",
   "metadata": {},
   "outputs": [],
   "source": [
    "class vehicle():\n",
    "    def __init__(self,started,speed):\n",
    "        self.started = started\n",
    "        self.speed =speed\n",
    "    def start(self):\n",
    "        print(\"engine is started\")\n",
    "    def increase_Speed(self):\n",
    "        print(f\"speed is {self.speed}\")\n",
    "\n",
    "class car(vehicle):\n",
    "    def __init__(self,started,speed,trunk_open):\n",
    "        super().__init__(started,speed)\n",
    "        self.trunk_open =trunk_open\n",
    "    def open_trunk(self):\n",
    "        self.start()\n",
    "        self.increase_Speed()\n",
    "        print(\"open trunk\")\n",
    "    def close_trunk(self):\n",
    "        print(\"close trunk\")\n",
    "\n",
    "class bike(car):\n",
    "    def __init__(self, started, speed, trunk_open,petrol):\n",
    "        super().__init__(started, speed, trunk_open)\n",
    "        self.petrol =petrol\n",
    "    def check_petrol(self):\n",
    "        print(f\"pterol is full {self.petrol}\")\n",
    "        print(f\"speed of bike is {self.speed}\")\n",
    "        self.open_trunk()\n",
    "\n",
    "\n",
    "\n"
   ]
  },
  {
   "cell_type": "code",
   "execution_count": 36,
   "id": "07120609",
   "metadata": {},
   "outputs": [
    {
     "ename": "TypeError",
     "evalue": "bike.__init__() missing 3 required positional arguments: 'speed', 'trunk_open', and 'petrol'",
     "output_type": "error",
     "traceback": [
      "\u001b[1;31m---------------------------------------------------------------------------\u001b[0m",
      "\u001b[1;31mTypeError\u001b[0m                                 Traceback (most recent call last)",
      "Cell \u001b[1;32mIn[36], line 2\u001b[0m\n\u001b[0;32m      1\u001b[0m car_obj \u001b[38;5;241m=\u001b[39m car(\u001b[38;5;28;01mTrue\u001b[39;00m,\u001b[38;5;241m60\u001b[39m,\u001b[38;5;28;01mTrue\u001b[39;00m)\n\u001b[1;32m----> 2\u001b[0m bike_obj\u001b[38;5;241m=\u001b[39m bike (\u001b[38;5;124m\"\u001b[39m\u001b[38;5;124m50 ltr\u001b[39m\u001b[38;5;124m\"\u001b[39m)\n",
      "\u001b[1;31mTypeError\u001b[0m: bike.__init__() missing 3 required positional arguments: 'speed', 'trunk_open', and 'petrol'"
     ]
    }
   ],
   "source": [
    "car_obj = car(True,60,True)\n",
    "bike_obj= bike (\"50 ltr\")"
   ]
  },
  {
   "cell_type": "code",
   "execution_count": 30,
   "id": "81815e48",
   "metadata": {},
   "outputs": [
    {
     "name": "stdout",
     "output_type": "stream",
     "text": [
      "engine is started\n",
      "speed is 60\n",
      "close trunk\n"
     ]
    }
   ],
   "source": [
    "car_obj.start()\n",
    "car_obj.increase_Speed()\n",
    "car_obj.close_trunk()\n",
    "\n",
    "\n"
   ]
  },
  {
   "cell_type": "code",
   "execution_count": null,
   "id": "6e4c0ca8",
   "metadata": {},
   "outputs": [],
   "source": []
  }
 ],
 "metadata": {
  "kernelspec": {
   "display_name": "base",
   "language": "python",
   "name": "python3"
  },
  "language_info": {
   "codemirror_mode": {
    "name": "ipython",
    "version": 3
   },
   "file_extension": ".py",
   "mimetype": "text/x-python",
   "name": "python",
   "nbconvert_exporter": "python",
   "pygments_lexer": "ipython3",
   "version": "3.11.4"
  }
 },
 "nbformat": 4,
 "nbformat_minor": 5
}
