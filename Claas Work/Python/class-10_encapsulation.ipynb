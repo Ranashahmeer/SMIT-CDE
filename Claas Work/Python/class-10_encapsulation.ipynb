{
 "cells": [
  {
   "cell_type": "markdown",
   "id": "c11b3f4c-83e0-478e-80b6-24234283419e",
   "metadata": {},
   "source": [
    "ENcapsulation"
   ]
  },
  {
   "cell_type": "code",
   "execution_count": 4,
   "id": "82a45a14",
   "metadata": {},
   "outputs": [],
   "source": [
    "class saylani():\n",
    "    def __init__(self):\n",
    "        self.campus = \"ZAITP\"\n",
    "        self._helping=\"090078601\" #PROTECTED single _\n",
    "        self.__staff_c=\"0300123456\" #PRIVATE double __"
   ]
  },
  {
   "cell_type": "code",
   "execution_count": 8,
   "id": "4e75ed0e",
   "metadata": {},
   "outputs": [
    {
     "data": {
      "text/plain": [
       "'ZAITP'"
      ]
     },
     "execution_count": 8,
     "metadata": {},
     "output_type": "execute_result"
    }
   ],
   "source": [
    "ob = saylani()\n",
    "ob.campus\n"
   ]
  },
  {
   "cell_type": "code",
   "execution_count": 9,
   "id": "2652d3a0",
   "metadata": {},
   "outputs": [
    {
     "data": {
      "text/plain": [
       "'090078601'"
      ]
     },
     "execution_count": 9,
     "metadata": {},
     "output_type": "execute_result"
    }
   ],
   "source": [
    "ob._helping\n"
   ]
  },
  {
   "cell_type": "code",
   "execution_count": 10,
   "id": "e8ef7ac1",
   "metadata": {},
   "outputs": [
    {
     "data": {
      "text/plain": [
       "'0300123456'"
      ]
     },
     "execution_count": 10,
     "metadata": {},
     "output_type": "execute_result"
    }
   ],
   "source": [
    "ob._saylani__staff_c"
   ]
  },
  {
   "cell_type": "code",
   "execution_count": 19,
   "id": "656f010f",
   "metadata": {},
   "outputs": [
    {
     "name": "stdout",
     "output_type": "stream",
     "text": [
      "wrong password\n"
     ]
    }
   ],
   "source": [
    "class login():\n",
    "    def __init__(self):\n",
    "        self._username = \"Admin\"\n",
    "        self._password = \"Pass\"\n",
    "\n",
    "    def __database(self,name,password):\n",
    "        if (name ==self._username and password ==self._password ):\n",
    "            print(\"login successfully\")\n",
    "            print(name,password)\n",
    "        else:\n",
    "            print(\"wrong password\")\n",
    "    def update_pass(self,newpass):\n",
    "        self._password = newpass\n",
    "        print(\"Updated password is \",self._password)\n",
    "\n",
    "    def login(self,name ,password):\n",
    "        self.__database(name,password)\n",
    "        # self.update_pass(password)\n",
    "\n",
    "\n",
    "\n",
    "\n",
    "\n",
    "\n",
    "check_obj = login()\n",
    "# check_obj.__database(\"Admin\",\"Pass\")\n",
    "# check_obj.update_pass(\"Rana\")\n",
    "check_obj.login(\"Admin\",\"Rana\")\n",
    "\n",
    "    "
   ]
  },
  {
   "cell_type": "code",
   "execution_count": null,
   "id": "8f04cfa0",
   "metadata": {},
   "outputs": [],
   "source": [
    "# "
   ]
  }
 ],
 "metadata": {
  "kernelspec": {
   "display_name": "base",
   "language": "python",
   "name": "python3"
  },
  "language_info": {
   "codemirror_mode": {
    "name": "ipython",
    "version": 3
   },
   "file_extension": ".py",
   "mimetype": "text/x-python",
   "name": "python",
   "nbconvert_exporter": "python",
   "pygments_lexer": "ipython3",
   "version": "3.11.4"
  }
 },
 "nbformat": 4,
 "nbformat_minor": 5
}
