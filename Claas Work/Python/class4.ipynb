{
 "cells": [
  {
   "cell_type": "markdown",
   "id": "96a54201-0ab8-47d5-ad9d-d553e68402ae",
   "metadata": {},
   "source": [
    "tuple\n",
    "nested tuple "
   ]
  },
  {
   "cell_type": "code",
   "execution_count": null,
   "id": "41a9ea64-de68-4335-8d67-96a9303a3516",
   "metadata": {},
   "outputs": [],
   "source": [
    "nested_tuple() "
   ]
  }
 ],
 "metadata": {
  "kernelspec": {
   "display_name": "Python 3 (ipykernel)",
   "language": "python",
   "name": "python3"
  },
  "language_info": {
   "codemirror_mode": {
    "name": "ipython",
    "version": 3
   },
   "file_extension": ".py",
   "mimetype": "text/x-python",
   "name": "python",
   "nbconvert_exporter": "python",
   "pygments_lexer": "ipython3",
   "version": "3.12.7"
  }
 },
 "nbformat": 4,
 "nbformat_minor": 5
}
