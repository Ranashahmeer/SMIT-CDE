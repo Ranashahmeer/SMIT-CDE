{
 "cells": [
  {
   "cell_type": "markdown",
   "id": "c11b3f4c-83e0-478e-80b6-24234283419e",
   "metadata": {},
   "source": [
    "POLYMORPHYSM"
   ]
  },
  {
   "cell_type": "code",
   "execution_count": 3,
   "id": "c73136a1",
   "metadata": {},
   "outputs": [],
   "source": [
    "class animal():\n",
    "    def eating(self):\n",
    "        print(\"Animal is eating food\")\n",
    "class bird(animal):\n",
    "    def eating(self):\n",
    "        print(\"Bird is eating food\")\n",
    "        super().eating()"
   ]
  },
  {
   "cell_type": "code",
   "execution_count": 4,
   "id": "e876e717",
   "metadata": {},
   "outputs": [],
   "source": [
    "animal_obj =animal()\n",
    "bird_obj = bird()"
   ]
  },
  {
   "cell_type": "code",
   "execution_count": 6,
   "id": "82a132bf",
   "metadata": {},
   "outputs": [
    {
     "name": "stdout",
     "output_type": "stream",
     "text": [
      "Animal is eating food\n",
      "Bird is eating food\n",
      "Animal is eating food\n"
     ]
    }
   ],
   "source": [
    "animal_obj.eating()\n",
    "bird_obj.eating()"
   ]
  },
  {
   "cell_type": "code",
   "execution_count": 22,
   "id": "aebdcf37",
   "metadata": {},
   "outputs": [],
   "source": [
    "class vehicle ():\n",
    "    def speed(self):\n",
    "        print(\"Max speed is 150\")\n",
    "\n",
    "    def change_gear(self):\n",
    "        print(\"total gear are 5\")\n",
    "        \n",
    "    def show(self):\n",
    "        print(\"SHOWING ALL METHODS\")\n",
    "        self.speed()\n",
    "        self.change_gear()\n",
    "\n",
    "class car (vehicle):\n",
    "    def speed(self):\n",
    "        print(\"Max speed of car  is 240\")\n",
    "    def change_gear(self):\n",
    "        print(\"Total gear are 6\")\n",
    "    def show(self):\n",
    "        self.speed()\n",
    "        self.change_gear()\n",
    "        print(\"method from main class\")\n",
    "        super().show()\n",
    "        \n",
    "class truck (vehicle):\n",
    "    def speed(self):\n",
    "        print(\"Max speed of truck is 200\")\n",
    "\n",
    "    def change_gear(self):\n",
    "        print(\"total gear are 8\")\n",
    "\n",
    "    def show(self):\n",
    "        self.speed()\n",
    "        self.change_gear()\n",
    "        print(\"method from main class\")\n",
    "        super().show()      \n",
    "\n",
    "\n"
   ]
  },
  {
   "cell_type": "code",
   "execution_count": 23,
   "id": "63ff56f6",
   "metadata": {},
   "outputs": [],
   "source": [
    "veh_obj = vehicle()\n",
    "car_bj = car()\n",
    "truck_obj = truck()"
   ]
  },
  {
   "cell_type": "code",
   "execution_count": 24,
   "id": "740f404d",
   "metadata": {},
   "outputs": [
    {
     "name": "stdout",
     "output_type": "stream",
     "text": [
      "total gear are 5\n",
      "Max speed is 150\n",
      "SHOWING ALL METHODS\n",
      "Max speed is 150\n",
      "total gear are 5\n"
     ]
    }
   ],
   "source": [
    "veh_obj.change_gear()\n",
    "veh_obj.speed()\n",
    "veh_obj.show()"
   ]
  },
  {
   "cell_type": "code",
   "execution_count": 25,
   "id": "1f7dcdd4",
   "metadata": {},
   "outputs": [
    {
     "name": "stdout",
     "output_type": "stream",
     "text": [
      "Max speed of car  is 240\n",
      "Total gear are 6\n",
      "method from main class\n",
      "SHOWING ALL METHODS\n",
      "Max speed of car  is 240\n",
      "Total gear are 6\n"
     ]
    }
   ],
   "source": [
    "car_bj.show()"
   ]
  },
  {
   "cell_type": "code",
   "execution_count": null,
   "id": "25867d9b",
   "metadata": {},
   "outputs": [],
   "source": []
  }
 ],
 "metadata": {
  "kernelspec": {
   "display_name": "base",
   "language": "python",
   "name": "python3"
  },
  "language_info": {
   "codemirror_mode": {
    "name": "ipython",
    "version": 3
   },
   "file_extension": ".py",
   "mimetype": "text/x-python",
   "name": "python",
   "nbconvert_exporter": "python",
   "pygments_lexer": "ipython3",
   "version": "3.11.4"
  }
 },
 "nbformat": 4,
 "nbformat_minor": 5
}
