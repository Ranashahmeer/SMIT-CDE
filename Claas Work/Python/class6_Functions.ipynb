{
 "cells": [
  {
   "cell_type": "code",
   "execution_count": 4,
   "id": "9fe16a69-95ff-45f9-9d40-411086cfaf0a",
   "metadata": {},
   "outputs": [],
   "source": [
    "def func1():\n",
    "    print(\"rana\")"
   ]
  },
  {
   "cell_type": "code",
   "execution_count": 5,
   "id": "94216de0",
   "metadata": {},
   "outputs": [
    {
     "name": "stdout",
     "output_type": "stream",
     "text": [
      "rana\n"
     ]
    }
   ],
   "source": [
    "func1()"
   ]
  },
  {
   "cell_type": "code",
   "execution_count": 9,
   "id": "23375841",
   "metadata": {},
   "outputs": [],
   "source": [
    "def bonus (sal):\n",
    "    # sal=int(input(\"enter salary : \"))\n",
    "    sal+=sal*0.15\n",
    "    print(sal)"
   ]
  },
  {
   "cell_type": "code",
   "execution_count": 10,
   "id": "0d54ecb2",
   "metadata": {},
   "outputs": [
    {
     "name": "stdout",
     "output_type": "stream",
     "text": [
      "115000.0\n"
     ]
    }
   ],
   "source": [
    "bonus(100000)"
   ]
  },
  {
   "cell_type": "code",
   "execution_count": 27,
   "id": "bc9f0dba",
   "metadata": {},
   "outputs": [],
   "source": [
    "def func():\n",
    "    str=input(\"enter string to find lower and uppercase :\")\n",
    "    countUpper=0\n",
    "    countLower=0\n",
    "    for i in str:\n",
    "        if(i.isupper()):\n",
    "            countUpper+=1\n",
    "        elif(i.islower()):\n",
    "            countLower+=1\n",
    "    print(str,\"\\nUpper : \",countUpper,\"\\nLower : \",countLower)"
   ]
  },
  {
   "cell_type": "code",
   "execution_count": 29,
   "id": "922eac26",
   "metadata": {},
   "outputs": [
    {
     "name": "stdout",
     "output_type": "stream",
     "text": [
      "Rana Shah \n",
      "Upper :  2 \n",
      "Lower :  6\n"
     ]
    }
   ],
   "source": [
    "func()\n"
   ]
  },
  {
   "cell_type": "code",
   "execution_count": 30,
   "id": "a23c3f53",
   "metadata": {},
   "outputs": [],
   "source": [
    "def display(name,*args):\n",
    "    print(name,args)"
   ]
  },
  {
   "cell_type": "code",
   "execution_count": 31,
   "id": "d7766faa",
   "metadata": {},
   "outputs": [
    {
     "name": "stdout",
     "output_type": "stream",
     "text": [
      "rana ('ali', 'other')\n"
     ]
    }
   ],
   "source": [
    "display(\"rana\",\"ali\",\"other\")"
   ]
  },
  {
   "cell_type": "code",
   "execution_count": null,
   "id": "f26caa4f",
   "metadata": {},
   "outputs": [],
   "source": []
  }
 ],
 "metadata": {
  "kernelspec": {
   "display_name": "Python 3",
   "language": "python",
   "name": "python3"
  },
  "language_info": {
   "codemirror_mode": {
    "name": "ipython",
    "version": 3
   },
   "file_extension": ".py",
   "mimetype": "text/x-python",
   "name": "python",
   "nbconvert_exporter": "python",
   "pygments_lexer": "ipython3",
   "version": "3.12.3"
  }
 },
 "nbformat": 4,
 "nbformat_minor": 5
}
