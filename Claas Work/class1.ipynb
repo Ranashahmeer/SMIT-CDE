{
 "cells": [
  {
   "cell_type": "markdown",
   "id": "ca37b521-4a53-46f6-85b2-6c97f6bbab08",
   "metadata": {},
   "source": [
    "# shortcut of ju[yter notebook\n",
    "## shortcut\n",
    "print(\"Rana\")\n"
   ]
  },
  {
   "cell_type": "markdown",
   "id": "ac8fa640-6ee1-41a6-9d9e-fe4c1aa0d04b",
   "metadata": {},
   "source": [
    "esc + 1 (fro lev 1 heading)\n",
    "esc + 2 (fro lev 2 heading)\n",
    "esc + 3 (fro lev 3 heading)\n",
    "esc + M (convert selected cell to markdown)\n",
    "esc + a (create cell above)\n",
    "esc + b (create cell below)\n",
    "esc + delete (delete cell)\n",
    "esc + y (convert cel into code)\n",
    "shift+enter (run code)\n",
    "ctrl + enter (execute but stays n cell)\n",
    "ctrl + shift+ h  (to get all shortcuts)"
   ]
  },
  {
   "cell_type": "code",
   "execution_count": null,
   "id": "2ef3a2ae-5c01-4930-89fd-220764d0485f",
   "metadata": {},
   "outputs": [],
   "source": [
    "age = 20 \n",
    "print (age)"
   ]
  }
 ],
 "metadata": {
  "kernelspec": {
   "display_name": "Python 3 (ipykernel)",
   "language": "python",
   "name": "python3"
  },
  "language_info": {
   "codemirror_mode": {
    "name": "ipython",
    "version": 3
   },
   "file_extension": ".py",
   "mimetype": "text/x-python",
   "name": "python",
   "nbconvert_exporter": "python",
   "pygments_lexer": "ipython3",
   "version": "3.12.7"
  }
 },
 "nbformat": 4,
 "nbformat_minor": 5
}
