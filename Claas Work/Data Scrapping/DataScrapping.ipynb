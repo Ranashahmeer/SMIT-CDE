{
 "cells": [
  {
   "cell_type": "code",
   "execution_count": 18,
   "id": "cf225040-7226-47a8-a0b5-cc5ae2409131",
   "metadata": {},
   "outputs": [
    {
     "name": "stdout",
     "output_type": "stream",
     "text": [
      "Requirement already satisfied: bs4 in c:\\users\\hp\\anaconda3\\lib\\site-packages (0.0.2)Note: you may need to restart the kernel to use updated packages.\n",
      "\n",
      "Requirement already satisfied: beautifulsoup4 in c:\\users\\hp\\anaconda3\\lib\\site-packages (from bs4) (4.12.2)\n",
      "Requirement already satisfied: soupsieve>1.2 in c:\\users\\hp\\anaconda3\\lib\\site-packages (from beautifulsoup4->bs4) (2.4)\n"
     ]
    }
   ],
   "source": [
    "pip install bs4"
   ]
  },
  {
   "cell_type": "code",
   "execution_count": 19,
   "id": "aba7a94e-3abd-4fb1-b753-ef6867c9af0a",
   "metadata": {},
   "outputs": [],
   "source": [
    "from bs4 import BeautifulSoup\n",
    "import requests"
   ]
  },
  {
   "cell_type": "code",
   "execution_count": 20,
   "id": "db96d425-723c-4635-91a6-1aab6e1797f0",
   "metadata": {},
   "outputs": [],
   "source": [
    "url='https://realpython.github.io/fake-jobs/'\n",
    "request = requests.get(url)\n",
    "# request.content"
   ]
  },
  {
   "cell_type": "code",
   "execution_count": 21,
   "id": "821c1c01-9c84-4159-99d6-33dd9b7900e2",
   "metadata": {},
   "outputs": [],
   "source": [
    "soup=BeautifulSoup(request.content,'html.parser')"
   ]
  },
  {
   "cell_type": "code",
   "execution_count": 22,
   "id": "9d2077cf-ad91-4418-bb73-5e13c184a89a",
   "metadata": {},
   "outputs": [],
   "source": [
    "container = soup.find('ResultsContainer')"
   ]
  },
  {
   "cell_type": "code",
   "execution_count": 23,
   "id": "58417ce6-424e-465a-8518-2a0f7c490825",
   "metadata": {},
   "outputs": [
    {
     "data": {
      "text/plain": [
       "'Senior Python Developer'"
      ]
     },
     "execution_count": 23,
     "metadata": {},
     "output_type": "execute_result"
    }
   ],
   "source": [
    "job = soup.find(class_='title is-5')\n",
    "job.text"
   ]
  },
  {
   "cell_type": "code",
   "execution_count": 24,
   "id": "cc3de9b9-f5b9-4301-a2f3-b29be8290e54",
   "metadata": {},
   "outputs": [
    {
     "data": {
      "text/plain": [
       "'Payne, Roberts and Davis'"
      ]
     },
     "execution_count": 24,
     "metadata": {},
     "output_type": "execute_result"
    }
   ],
   "source": [
    "subtitle = soup.find(class_='subtitle is-6 company')\n",
    "subtitle.text"
   ]
  },
  {
   "cell_type": "code",
   "execution_count": 25,
   "id": "2069c17e-fbb4-45bb-a27d-4e8beb18b6ac",
   "metadata": {},
   "outputs": [
    {
     "data": {
      "text/plain": [
       "'Stewartbury, AA'"
      ]
     },
     "execution_count": 25,
     "metadata": {},
     "output_type": "execute_result"
    }
   ],
   "source": [
    "loc = soup.find(class_='location')\n",
    "loc.text.strip()"
   ]
  },
  {
   "cell_type": "code",
   "execution_count": 26,
   "id": "5f2ba752-01ca-44ad-9074-a8b3f953d9c6",
   "metadata": {},
   "outputs": [
    {
     "data": {
      "text/plain": [
       "'\\n2021-04-08\\n'"
      ]
     },
     "execution_count": 26,
     "metadata": {},
     "output_type": "execute_result"
    }
   ],
   "source": [
    "date = soup.find(class_='is-small has-text-grey')\n",
    "date.text"
   ]
  },
  {
   "cell_type": "code",
   "execution_count": 27,
   "id": "1e1b2caa-f2ef-4155-8bd0-278fa002cfb8",
   "metadata": {},
   "outputs": [
    {
     "data": {
      "text/plain": [
       "'Senior Python Developer'"
      ]
     },
     "execution_count": 27,
     "metadata": {},
     "output_type": "execute_result"
    }
   ],
   "source": [
    "secJob = soup.find(class_='title is-5')\n",
    "secJob.text"
   ]
  },
  {
   "cell_type": "code",
   "execution_count": 30,
   "id": "a1d0c55d-743b-4c62-b002-cfb90897174a",
   "metadata": {},
   "outputs": [
    {
     "data": {
      "text/plain": [
       "'Senior Python Developer'"
      ]
     },
     "execution_count": 30,
     "metadata": {},
     "output_type": "execute_result"
    }
   ],
   "source": [
    "allJobs= soup.find_all(class_='title is-5')\n",
    "allJobs[0].text\n",
    "# allJobs[1].text\n"
   ]
  },
  {
   "cell_type": "code",
   "execution_count": 31,
   "id": "e4efa7ed-26d8-499c-8eda-b676e7b499c8",
   "metadata": {},
   "outputs": [],
   "source": [
    "Container =soup.find(id = 'ResultsContainer')\n",
    "jobDivs= Container.find_all(class_ = 'column is-half')\n"
   ]
  },
  {
   "cell_type": "code",
   "execution_count": 32,
   "id": "2f857e03-e382-42c5-a499-fd2b93eea397",
   "metadata": {},
   "outputs": [
    {
     "name": "stdout",
     "output_type": "stream",
     "text": [
      "1) Job\n",
      "Title : Senior Python Developer,\n",
      "Subtitle : Payne, Roberts and Davis\n",
      "Location Stewartbury, AA,\n",
      "Date : 2021-04-08\n"
     ]
    }
   ],
   "source": [
    "i=0\n",
    "for job in jobDivs:\n",
    "    i+=1\n",
    "    print(f'{i}) Job')\n",
    "    title=(job.find(class_='title is-5')).text\n",
    "    subtitle = (job.find(class_='subtitle is-6 company')).text\n",
    "    loc = (soup.find(class_='location')).text.strip()\n",
    "    date = (soup.find(class_='is-small has-text-grey')).text.strip()\n",
    "    \n",
    "    print(f\"Title : {title},\\nSubtitle : {subtitle}\\nLocation {loc},\\nDate : {date}\")\n",
    "    break"
   ]
  },
  {
   "cell_type": "code",
   "execution_count": null,
   "id": "30b4de45",
   "metadata": {},
   "outputs": [],
   "source": []
  }
 ],
 "metadata": {
  "kernelspec": {
   "display_name": "base",
   "language": "python",
   "name": "python3"
  },
  "language_info": {
   "codemirror_mode": {
    "name": "ipython",
    "version": 3
   },
   "file_extension": ".py",
   "mimetype": "text/x-python",
   "name": "python",
   "nbconvert_exporter": "python",
   "pygments_lexer": "ipython3",
   "version": "3.11.4"
  }
 },
 "nbformat": 4,
 "nbformat_minor": 5
}
