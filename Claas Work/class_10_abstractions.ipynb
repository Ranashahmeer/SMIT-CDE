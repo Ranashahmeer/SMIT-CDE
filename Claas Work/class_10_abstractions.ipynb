{
 "cells": [
  {
   "cell_type": "markdown",
   "id": "c11b3f4c-83e0-478e-80b6-24234283419e",
   "metadata": {},
   "source": [
    "ABSTRACTION"
   ]
  },
  {
   "cell_type": "code",
   "execution_count": 10,
   "id": "c73136a1",
   "metadata": {},
   "outputs": [],
   "source": [
    "class shapes():\n",
    "    def sidea():\n",
    "        pass\n",
    "class trinagle(shapes):\n",
    "    def sidea(self):\n",
    "        print(\"triangle have 3 sides\")  \n",
    "class sqr(trinagle):\n",
    "    def sidea(self):\n",
    "        print(\"squrae\")\n",
    "        return super().sidea()"
   ]
  },
  {
   "cell_type": "code",
   "execution_count": 11,
   "id": "e2828047",
   "metadata": {},
   "outputs": [],
   "source": [
    "tri_obj = trinagle()\n",
    "sqr_obj = sqr()"
   ]
  },
  {
   "cell_type": "code",
   "execution_count": 12,
   "id": "00cda0f6",
   "metadata": {},
   "outputs": [
    {
     "name": "stdout",
     "output_type": "stream",
     "text": [
      "squrae\n",
      "triangle have 3 sides\n"
     ]
    }
   ],
   "source": [
    "sqr_obj.sidea()\n"
   ]
  },
  {
   "cell_type": "code",
   "execution_count": null,
   "id": "3a7a06d2",
   "metadata": {},
   "outputs": [],
   "source": []
  }
 ],
 "metadata": {
  "kernelspec": {
   "display_name": "base",
   "language": "python",
   "name": "python3"
  },
  "language_info": {
   "codemirror_mode": {
    "name": "ipython",
    "version": 3
   },
   "file_extension": ".py",
   "mimetype": "text/x-python",
   "name": "python",
   "nbconvert_exporter": "python",
   "pygments_lexer": "ipython3",
   "version": "3.11.4"
  }
 },
 "nbformat": 4,
 "nbformat_minor": 5
}
