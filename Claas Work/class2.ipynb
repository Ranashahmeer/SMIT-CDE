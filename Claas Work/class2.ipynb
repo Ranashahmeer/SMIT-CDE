{
 "cells": [
  {
   "cell_type": "markdown",
   "id": "d85ef79f-0cbf-420f-b004-889f18d5ef61",
   "metadata": {},
   "source": [
    "esc + 1 (fro lev 1 heading)\n",
    "esc + 2 (fro lev 2 heading)\n",
    "esc + 3 (fro lev 3 heading)\n",
    "esc + M (convert selected cell to markdown)\n",
    "esc + a (create cell above)\n",
    "esc + b (create cell below)\n",
    "esc + dd (delete cell)\n",
    "esc + y (convert cel into code)\n",
    "shift+enter (run code)\n",
    "ctrl + enter (execute but stays n cell)\n",
    "ctrl + shift+ h  (to get all shortcuts)"
   ]
  },
  {
   "cell_type": "code",
   "execution_count": 3,
   "id": "f921462d-1277-47cd-be19-83837c40b4d0",
   "metadata": {},
   "outputs": [
    {
     "ename": "NameError",
     "evalue": "name 'weight' is not defined",
     "output_type": "error",
     "traceback": [
      "\u001b[1;31m---------------------------------------------------------------------------\u001b[0m",
      "\u001b[1;31mNameError\u001b[0m                                 Traceback (most recent call last)",
      "Cell \u001b[1;32mIn[3], line 2\u001b[0m\n\u001b[0;32m      1\u001b[0m \u001b[38;5;28;01mimport\u001b[39;00m \u001b[38;5;21;01mmath\u001b[39;00m\n\u001b[1;32m----> 2\u001b[0m math\u001b[38;5;241m.\u001b[39mfloor(\u001b[43mweight\u001b[49m)\n",
      "\u001b[1;31mNameError\u001b[0m: name 'weight' is not defined"
     ]
    }
   ],
   "source": [
    "import math\n",
    "\n",
    "math.floor(weight)"
   ]
  },
  {
   "cell_type": "code",
   "execution_count": 6,
   "id": "dd29ff98-f6f0-4310-a404-cc807a02c0be",
   "metadata": {},
   "outputs": [],
   "source": [
    "#rana"
   ]
  },
  {
   "cell_type": "code",
   "execution_count": null,
   "id": "b0bebc8d-d5bb-49b2-8866-f92138f66fcd",
   "metadata": {},
   "outputs": [],
   "source": [
    "if "
   ]
  }
 ],
 "metadata": {
  "kernelspec": {
   "display_name": "Python 3 (ipykernel)",
   "language": "python",
   "name": "python3"
  },
  "language_info": {
   "codemirror_mode": {
    "name": "ipython",
    "version": 3
   },
   "file_extension": ".py",
   "mimetype": "text/x-python",
   "name": "python",
   "nbconvert_exporter": "python",
   "pygments_lexer": "ipython3",
   "version": "3.12.7"
  }
 },
 "nbformat": 4,
 "nbformat_minor": 5
}
